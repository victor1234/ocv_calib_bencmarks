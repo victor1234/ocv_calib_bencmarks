{
 "cells": [
  {
   "cell_type": "code",
   "execution_count": 339,
   "metadata": {
    "collapsed": true,
    "pycharm": {
     "name": "#%%\n"
    }
   },
   "outputs": [],
   "source": [
    "import cv2 as cv\n",
    "import numpy as np\n",
    "from matplotlib import pyplot as plt"
   ]
  },
  {
   "cell_type": "code",
   "execution_count": 340,
   "outputs": [],
   "source": [
    "pattern_size = (6, 9)\n",
    "image_size = (480, 640)\n",
    "border_width = 40\n",
    "square_size = 55\n",
    "\n",
    "pattern_image = np.ones(image_size, np.uint8)\n",
    "pattern_corners = np.zeros(((pattern_size[0]) * (pattern_size[1]), 2), np.float32)\n",
    "n = 0\n",
    "for i in range(pattern_size[0] + 1):\n",
    "    for j in range(pattern_size[1] + 1):\n",
    "        j0 = border_width + j * square_size\n",
    "        i0 = border_width + i * square_size\n",
    "\n",
    "        if (i + j) % 2 == 0:\n",
    "            pattern_image[i0:i0+square_size, j0:j0+square_size] = 0\n",
    "\n",
    "        if 0 < i < pattern_size[0] and 0 < j < pattern_size[1]:\n",
    "            pattern_corners[n, 0] = j0\n",
    "            pattern_corners[n, 1] = i0\n",
    "            n += 1\n"
   ],
   "metadata": {
    "collapsed": false,
    "pycharm": {
     "name": "#%%\n"
    }
   }
  },
  {
   "cell_type": "code",
   "execution_count": 341,
   "outputs": [
    {
     "data": {
      "text/plain": "<Figure size 432x288 with 1 Axes>",
      "image/png": "[encoded data removed]"
     },
     "metadata": {},
     "output_type": "display_data"
    }
   ],
   "source": [
    "# pattern_image = cv.imread('pattern.png', 0)\n",
    "plt.imshow(pattern_image)\n",
    "plt.xticks([]), plt.yticks([])\n",
    "plt.show()\n"
   ],
   "metadata": {
    "collapsed": false,
    "pycharm": {
     "name": "#%%\n"
    }
   }
  },
  {
   "cell_type": "code",
   "execution_count": 342,
   "outputs": [],
   "source": [
    "status, corners = cv.findChessboardCorners(pattern_image, (6, 9))\n",
    "if status:\n",
    "    #print(corners)\n",
    "    criteria = (cv.TERM_CRITERIA_EPS + cv.TERM_CRITERIA_COUNT, 300, 0.01)\n",
    "    cv.cornerSubPix(pattern_image, corners, (5, 5), (-1, -1), criteria)\n",
    "else:\n",
    "    print(\"Could not detect corners\")"
   ],
   "metadata": {
    "collapsed": false,
    "pycharm": {
     "name": "#%%\n"
    }
   }
  },
  {
   "cell_type": "code",
   "execution_count": 344,
   "outputs": [
    {
     "name": "stdout",
     "output_type": "stream",
     "text": [
      "(54, 2)\n",
      "(54, 2)\n",
      "[[ 5.000e-01 -2.745e+02]\n",
      " [ 5.550e+01 -2.195e+02]\n",
      " [ 1.105e+02 -1.645e+02]\n",
      " [ 1.655e+02 -1.095e+02]\n",
      " [ 2.205e+02 -5.450e+01]\n",
      " [ 2.755e+02  5.000e-01]\n",
      " [ 2.755e+02 -2.745e+02]\n",
      " [ 3.305e+02 -2.195e+02]\n",
      " [-5.450e+01 -1.095e+02]\n",
      " [ 5.000e-01 -5.450e+01]\n",
      " [ 5.550e+01  5.000e-01]\n",
      " [ 1.105e+02  5.550e+01]\n",
      " [ 1.105e+02 -2.195e+02]\n",
      " [ 1.655e+02 -1.645e+02]\n",
      " [ 2.205e+02 -1.095e+02]\n",
      " [ 2.755e+02 -5.450e+01]\n",
      " [-1.095e+02  5.550e+01]\n",
      " [-5.450e+01  1.105e+02]\n",
      " [-5.450e+01 -1.645e+02]\n",
      " [ 5.000e-01 -1.095e+02]\n",
      " [ 5.550e+01 -5.450e+01]\n",
      " [ 1.105e+02  5.000e-01]\n",
      " [ 1.655e+02  5.550e+01]\n",
      " [ 2.205e+02  1.105e+02]\n",
      " [-2.195e+02 -1.095e+02]\n",
      " [-1.645e+02 -5.450e+01]\n",
      " [-1.095e+02  5.000e-01]\n",
      " [-5.450e+01  5.550e+01]\n",
      " [ 5.000e-01  1.105e+02]\n",
      " [ 5.550e+01  1.655e+02]\n",
      " [ 5.550e+01 -1.095e+02]\n",
      " [ 1.105e+02 -5.450e+01]\n",
      " [-2.745e+02  5.550e+01]\n",
      " [-2.195e+02  1.105e+02]\n",
      " [-1.645e+02  1.655e+02]\n",
      " [-1.095e+02  2.205e+02]\n",
      " [-1.095e+02 -5.450e+01]\n",
      " [-5.450e+01  5.000e-01]\n",
      " [ 5.000e-01  5.550e+01]\n",
      " [ 5.550e+01  1.105e+02]\n",
      " [-4.245e+02 -1.495e+02]\n",
      " [-4.245e+02 -9.450e+01]\n",
      " [-4.795e+02 -3.695e+02]\n",
      " [-4.795e+02 -3.145e+02]\n",
      " [-4.795e+02 -2.595e+02]\n",
      " [-4.795e+02 -2.045e+02]\n",
      " [-4.795e+02 -1.495e+02]\n",
      " [-4.795e+02 -9.450e+01]\n",
      " [-5.345e+02 -3.695e+02]\n",
      " [-5.345e+02 -3.145e+02]\n",
      " [-5.345e+02 -2.595e+02]\n",
      " [-5.345e+02 -2.045e+02]\n",
      " [-5.345e+02 -1.495e+02]\n",
      " [-5.345e+02 -9.450e+01]]\n"
     ]
    }
   ],
   "source": [
    "corners = corners.reshape(-1, 2)\n",
    "print(corners.shape)\n",
    "print(pattern_corners.shape)\n",
    "print(pattern_corners - corners)\n",
    "\n",
    "#print(((corners - pattern_points)))"
   ],
   "metadata": {
    "collapsed": false,
    "pycharm": {
     "name": "#%%\n"
    }
   }
  },
  {
   "cell_type": "code",
   "execution_count": 343,
   "outputs": [],
   "source": [],
   "metadata": {
    "collapsed": false,
    "pycharm": {
     "name": "#%%\n"
    }
   }
  }
 ],
 "metadata": {
  "kernelspec": {
   "display_name": "Python 3",
   "language": "python",
   "name": "python3"
  },
  "language_info": {
   "codemirror_mode": {
    "name": "ipython",
    "version": 2
   },
   "file_extension": ".py",
   "mimetype": "text/x-python",
   "name": "python",
   "nbconvert_exporter": "python",
   "pygments_lexer": "ipython2",
   "version": "2.7.6"
  }
 },
 "nbformat": 4,
 "nbformat_minor": 0
}